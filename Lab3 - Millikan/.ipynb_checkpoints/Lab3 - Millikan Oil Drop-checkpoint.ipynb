{
 "cells": [
  {
   "cell_type": "code",
   "execution_count": 20,
   "id": "further-consortium",
   "metadata": {},
   "outputs": [],
   "source": [
    "import matplotlib.pyplot as plt\n",
    "from matplotlib.ticker import FormatStrFormatter\n",
    "plt.rcParams[\"figure.figsize\"]=8,8\n",
    "import math\n",
    "import numpy as np\n",
    "import pandas as pd\n",
    "from scipy import stats\n",
    "import scipy\n",
    "import scipy.stats as stat\n",
    "from scipy.interpolate import make_interp_spline, BSpline\n",
    "from lmfit.models import Model\n",
    "import cv2 as cv2"
   ]
  },
  {
   "cell_type": "code",
   "execution_count": 3,
   "id": "terminal-college",
   "metadata": {},
   "outputs": [],
   "source": [
    "nu_o = 1.824e-5 # N-s/m^2 Viscosity of air, uncorrected for radius\n",
    "vy_o = 1 # m/s Droplet downward velocity with no field\n",
    "vy_E = 1 # m/s Droplet downward velocity with field E\n",
    "g = 9.8 # m/s^2 Acceleration of gravity\n",
    "rho = 8.86e2 # kg/m^3 Density of oil droplet\n",
    "b = 8.20e-3 #N/m Viscosity correction factor\n",
    "p = 1.013e+5 #N/m^2 pressure"
   ]
  },
  {
   "cell_type": "code",
   "execution_count": 5,
   "id": "worldwide-examination",
   "metadata": {},
   "outputs": [
    {
     "name": "stdout",
     "output_type": "stream",
     "text": [
      "0.022765415751410018\n"
     ]
    }
   ],
   "source": [
    "a = ((9*nu_o*vy_o/(2*g*rho))+(b/(2*p)**2)**2)**0.5 - (b/(2*p))\n",
    "print(a)"
   ]
  },
  {
   "cell_type": "code",
   "execution_count": null,
   "id": "induced-whale",
   "metadata": {},
   "outputs": [],
   "source": [
    "q = m*g*"
   ]
  },
  {
   "cell_type": "code",
   "execution_count": null,
   "id": "diagnostic-yorkshire",
   "metadata": {},
   "outputs": [],
   "source": [
    "src = cv2.VideoCapture('1_0_x264.mp4')\n",
    "mask = cv2.VideoCapture('1_1_x264.mp4')\n",
    "while True:\n",
    "    ret, img = src.read()\n",
    "    gray = cv2.cvtColor(img, cv2.COLOR_BGR2GRAY) # Convert image to gray and blur it\n",
    "    # displaying the video\n",
    "    cv2.imshow(\"Live\", gray)\n",
    "\n",
    "    # exiting the loop\n",
    "    key = cv2.waitKey(1)\n",
    "    if key == ord(\"q\"):\n",
    "        break\n",
    "# source_window = 'Source'\n",
    "# cv.namedWindow(source_window)\n",
    "# cv.imshow(source_window, src)"
   ]
  },
  {
   "cell_type": "code",
   "execution_count": null,
   "id": "focused-chance",
   "metadata": {},
   "outputs": [],
   "source": []
  }
 ],
 "metadata": {
  "kernelspec": {
   "display_name": "Python 3",
   "language": "python",
   "name": "python3"
  },
  "language_info": {
   "codemirror_mode": {
    "name": "ipython",
    "version": 3
   },
   "file_extension": ".py",
   "mimetype": "text/x-python",
   "name": "python",
   "nbconvert_exporter": "python",
   "pygments_lexer": "ipython3",
   "version": "3.9.5"
  }
 },
 "nbformat": 4,
 "nbformat_minor": 5
}
